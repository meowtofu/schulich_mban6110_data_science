{
 "cells": [
  {
   "cell_type": "code",
   "execution_count": 2,
   "metadata": {},
   "outputs": [
    {
     "name": "stdout",
     "output_type": "stream",
     "text": [
      "Defaulting to user installation because normal site-packages is not writeable\n",
      "Requirement already satisfied: pandas in /Users/jasminechang/Library/Python/3.8/lib/python/site-packages (2.0.1)\n",
      "Requirement already satisfied: numpy in /Users/jasminechang/Library/Python/3.8/lib/python/site-packages (1.24.3)\n",
      "Requirement already satisfied: matplotlib in /Users/jasminechang/Library/Python/3.8/lib/python/site-packages (3.7.1)\n",
      "Requirement already satisfied: seaborn in /Users/jasminechang/Library/Python/3.8/lib/python/site-packages (0.12.2)\n",
      "Requirement already satisfied: sklearn in /Users/jasminechang/Library/Python/3.8/lib/python/site-packages (0.0.post4)\n",
      "Requirement already satisfied: spicy in /Users/jasminechang/Library/Python/3.8/lib/python/site-packages (0.16.0)\n",
      "Requirement already satisfied: python-dateutil>=2.8.2 in /Users/jasminechang/Library/Python/3.8/lib/python/site-packages (from pandas) (2.8.2)\n",
      "Requirement already satisfied: pytz>=2020.1 in /Users/jasminechang/Library/Python/3.8/lib/python/site-packages (from pandas) (2023.3)\n",
      "Requirement already satisfied: tzdata>=2022.1 in /Users/jasminechang/Library/Python/3.8/lib/python/site-packages (from pandas) (2023.3)\n",
      "Requirement already satisfied: pyparsing>=2.3.1 in /Users/jasminechang/Library/Python/3.8/lib/python/site-packages (from matplotlib) (3.0.9)\n",
      "Requirement already satisfied: packaging>=20.0 in /Users/jasminechang/Library/Python/3.8/lib/python/site-packages (from matplotlib) (23.1)\n",
      "Requirement already satisfied: kiwisolver>=1.0.1 in /Users/jasminechang/Library/Python/3.8/lib/python/site-packages (from matplotlib) (1.4.4)\n",
      "Requirement already satisfied: contourpy>=1.0.1 in /Users/jasminechang/Library/Python/3.8/lib/python/site-packages (from matplotlib) (1.0.7)\n",
      "Requirement already satisfied: fonttools>=4.22.0 in /Users/jasminechang/Library/Python/3.8/lib/python/site-packages (from matplotlib) (4.39.3)\n",
      "Requirement already satisfied: cycler>=0.10 in /Users/jasminechang/Library/Python/3.8/lib/python/site-packages (from matplotlib) (0.11.0)\n",
      "Requirement already satisfied: importlib-resources>=3.2.0; python_version < \"3.10\" in /Users/jasminechang/Library/Python/3.8/lib/python/site-packages (from matplotlib) (5.12.0)\n",
      "Requirement already satisfied: pillow>=6.2.0 in /Users/jasminechang/Library/Python/3.8/lib/python/site-packages (from matplotlib) (9.5.0)\n",
      "Requirement already satisfied: scipy in /Users/jasminechang/Library/Python/3.8/lib/python/site-packages (from spicy) (1.10.1)\n",
      "Requirement already satisfied: six>=1.5 in /Users/jasminechang/Library/Python/3.8/lib/python/site-packages (from python-dateutil>=2.8.2->pandas) (1.16.0)\n",
      "Requirement already satisfied: zipp>=3.1.0; python_version < \"3.10\" in /Users/jasminechang/Library/Python/3.8/lib/python/site-packages (from importlib-resources>=3.2.0; python_version < \"3.10\"->matplotlib) (3.15.0)\n",
      "\u001b[33mWARNING: You are using pip version 20.2.1; however, version 23.1.2 is available.\n",
      "You should consider upgrading via the '/usr/local/bin/python3 -m pip install --upgrade pip' command.\u001b[0m\n",
      "Note: you may need to restart the kernel to use updated packages.\n"
     ]
    }
   ],
   "source": [
    "pip install pandas numpy matplotlib seaborn sklearn spicy"
   ]
  }
 ],
 "metadata": {
  "kernelspec": {
   "display_name": "Python 3",
   "language": "python",
   "name": "python3"
  },
  "language_info": {
   "codemirror_mode": {
    "name": "ipython",
    "version": 3
   },
   "file_extension": ".py",
   "mimetype": "text/x-python",
   "name": "python",
   "nbconvert_exporter": "python",
   "pygments_lexer": "ipython3",
   "version": "3.8.6"
  },
  "orig_nbformat": 4
 },
 "nbformat": 4,
 "nbformat_minor": 2
}
